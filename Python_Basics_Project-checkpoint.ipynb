{
 "cells": [
  {
   "cell_type": "markdown",
   "id": "2e858f1b",
   "metadata": {},
   "source": [
    "Q1: You are working in a bank, and you have been given two lists of the employees who worked in 2021. Employees’ names in list 1 are Ramesh, Suresh, Mahesh, Ali, Jacob, and Saritha. List 2 contains the names of Ali, Mukesh, Mahesh, Jacob, Sai, and Sarita. Please write a program that helps to identify people who are common in both lists. Please do not use any in-built function."
   ]
  },
  {
   "cell_type": "code",
   "execution_count": 1,
   "id": "69a8ac25",
   "metadata": {},
   "outputs": [
    {
     "name": "stdout",
     "output_type": "stream",
     "text": [
      "People common in both lists : ['Mahesh', 'Ali', 'Jacob']\n"
     ]
    }
   ],
   "source": [
    "employee_list1 = ['Ramesh', 'Suresh', 'Mahesh', 'Ali', 'Jacob', 'Saritha']\n",
    "employee_list2 = ['Ali', 'Mukesh', 'Mahesh', 'Jacob', 'Sai', 'Sarita']\n",
    "common_employee_list = []\n",
    "\n",
    "for i in employee_list1:\n",
    "  for n in employee_list2:\n",
    "    if i == n:\n",
    "      common_employee_list.append(i)\n",
    "\n",
    "print(f'People common in both lists : {common_employee_list}')"
   ]
  },
  {
   "cell_type": "markdown",
   "id": "b012f391",
   "metadata": {},
   "source": [
    "Q2: While entering data, someone entered a few names as a common string “Ramesh Suresh Mohit”. Please write a program which separates all the names and converts them into a list. Once converted into a list, please write a program that adds their age.\n",
    "\n",
    "Ramesh: 25\n",
    "\n",
    "Suresh: 22\n",
    "\n",
    "Mohit: 26"
   ]
  },
  {
   "cell_type": "code",
   "execution_count": 2,
   "id": "8165859a",
   "metadata": {},
   "outputs": [
    {
     "name": "stdout",
     "output_type": "stream",
     "text": [
      "['Ramesh', 'Suresh', 'Mohit']\n",
      "<class 'list'>\n",
      "{'Ramesh': 25, 'Suresh': 22, 'Mohit': 26}\n"
     ]
    }
   ],
   "source": [
    "string = 'Ramesh Suresh Mohit'\n",
    "split_string = string.split()\n",
    "print(split_string)\n",
    "print(type(split_string))\n",
    "ages = [25,22,26]\n",
    "\n",
    "string_age = dict(zip(split_string,ages))\n",
    "print(string_age)"
   ]
  },
  {
   "cell_type": "markdown",
   "id": "80812164",
   "metadata": {},
   "source": [
    "Q3: You are working in a medical store. A patient came to your medical store and asked to buy 2 strips of paracetamol, 3 strips of azithromycin, and 5 strips of Vitamin C. One strip of paracetamol costs Rs 35, one strip of azithromycin costs Rs 49, and one strip of vitamin c costs Rs. 33. Patient gave you Rs 2000. Please tell us what is the total cost of each medicine, the total cost of all medicine, and how much money you refunded to the patient."
   ]
  },
  {
   "cell_type": "code",
   "execution_count": 3,
   "id": "44ab31e7",
   "metadata": {},
   "outputs": [
    {
     "name": "stdout",
     "output_type": "stream",
     "text": [
      "No. of paracetamol strips required : 2\n",
      "No. of azithromycin strips required : 3\n",
      "No. of vitamin c strips required : 5\n",
      "paracetamol 35 2 70\n",
      "azithromycin 49 3 147\n",
      "vitamin c 33 5 165\n",
      "Total bill amount : 382\n",
      "Amount collected from patient : 2000\n",
      "Amount refunded to the patient: 1618\n"
     ]
    }
   ],
   "source": [
    "tablet_cost = {'paracetamol' : 35, 'azithromycin' : 49, 'vitamin c' : 33}\n",
    "tablet_purchased = {'paracetamol' : int(input('No. of paracetamol strips required : ')),\n",
    "                    'azithromycin' : int(input('No. of azithromycin strips required : ')),\n",
    "                    'vitamin c' : int(input('No. of vitamin c strips required : '))}\n",
    "bill = 0\n",
    "\n",
    "for i in tablet_purchased:\n",
    "  a = tablet_purchased[i]\n",
    "  b = tablet_cost[i]\n",
    "  print(i,b,a,a*b)\n",
    "  bill = bill + a*b\n",
    "print(f'Total bill amount : {bill}')\n",
    "\n",
    "amount_collected = int(input('Amount collected from patient : '))\n",
    "refund_amount = amount_collected - bill\n",
    "print(f'Amount refunded to the patient: {refund_amount}')"
   ]
  },
  {
   "cell_type": "markdown",
   "id": "d57bef3c",
   "metadata": {},
   "source": [
    "Q4: Accept a sentence as input and find the number of vowels in it. Assume that the sentence has no punctuation marks. For example, I am learning python contains 6 vowels. This function should be applicable for all other different sentences."
   ]
  },
  {
   "cell_type": "code",
   "execution_count": 4,
   "id": "8077bca2",
   "metadata": {},
   "outputs": [
    {
     "name": "stdout",
     "output_type": "stream",
     "text": [
      "Enter a sentence : I am learning Python\n",
      "No. of vowels in the sentence : 6\n"
     ]
    }
   ],
   "source": [
    "\n",
    "sentence = input('Enter a sentence : ')\n",
    "vowels = ('a','e','i','o','u')\n",
    "count = 0\n",
    "\n",
    "for i in sentence.lower():\n",
    "  for n in vowels:\n",
    "    if i == n:\n",
    "      count += 1\n",
    "\n",
    "print(f'No. of vowels in the sentence : {count}')"
   ]
  },
  {
   "cell_type": "markdown",
   "id": "f420e0dc",
   "metadata": {},
   "source": [
    "Q5: You have been appointed by the election commission to create a website. Your first task is to work on a program which tells candidates if they are eligible for voting or not. If they are eligible, your output should be ‘Congrats! You are eligible’; otherwise, it should tell that you have to return after X number of years. The eligibility criteria for voting is 18 years.\n",
    "\n",
    "For example, If someone is 18 or above, your output should be ‘Congrats! You are eligible’. If someone’s age is 15 years, it should print output as ‘return after 3 years’."
   ]
  },
  {
   "cell_type": "code",
   "execution_count": 5,
   "id": "e7fb2eb5",
   "metadata": {},
   "outputs": [
    {
     "name": "stdout",
     "output_type": "stream",
     "text": [
      "Enter your age : 15\n",
      "Return after 3 years\n"
     ]
    }
   ],
   "source": [
    "\n",
    "age = int(input('Enter your age : '))\n",
    "age_dif = 18 - age\n",
    "\n",
    "if age >= 18:\n",
    "  print('Congrats! You are eligible')\n",
    "else:\n",
    "  print(f'Return after {age_dif} years')\n"
   ]
  },
  {
   "cell_type": "markdown",
   "id": "79d67021",
   "metadata": {},
   "source": [
    "Q6: Given a list of integers, find the cumulative sum of the elements of the list and store them in another list.\n",
    "\n",
    "A = [1, 2, 3, 4, 5]\n",
    "\n",
    "Output:\n",
    "\n",
    "[1, 3, 6, 10, 15]"
   ]
  },
  {
   "cell_type": "code",
   "execution_count": 6,
   "id": "cd690070",
   "metadata": {},
   "outputs": [
    {
     "name": "stdout",
     "output_type": "stream",
     "text": [
      "[1, 3, 6, 10, 15]\n"
     ]
    }
   ],
   "source": [
    "\n",
    "A = [1,2,3,4,5]\n",
    "sum = 0\n",
    "output = []\n",
    "\n",
    "for i in A:\n",
    "  sum += i\n",
    "  output.append(sum)\n",
    "\n",
    "print(output)"
   ]
  },
  {
   "cell_type": "markdown",
   "id": "2af856ff",
   "metadata": {},
   "source": [
    "Q7:\n",
    "\n",
    "WAP to encode a message entered by user as per below conditions:\n",
    "\n",
    "for every word in the sentence,\n",
    "\n",
    "If the word starts with a vowel, encode it as first and last letter of the word.\n",
    "\n",
    "If the word starts with a consonant, remove all vowels from it.\n",
    "\n",
    "Ensure the case insensitive comparisions/checks are performed.\n",
    "\n",
    "Please enter your text:The quick brown fox used to sleep inside this box\n",
    "\n",
    "Encoded Msg: Th qck brwn fx ud t slp ie ths bx\n",
    "\n"
   ]
  },
  {
   "cell_type": "code",
   "execution_count": 7,
   "id": "4c21f9ae",
   "metadata": {},
   "outputs": [
    {
     "name": "stdout",
     "output_type": "stream",
     "text": [
      "Please enter your text: The quick brown fox used to sleep inside this box\n",
      "Encoded Msg: Th qck brwn fx ud t slp ie ths bx \n"
     ]
    }
   ],
   "source": [
    "\n",
    "message = input('Please enter your text: ')\n",
    "vowels = 'AEIOUaeiou'\n",
    "split_message = message.split()\n",
    "encoded_message = ''\n",
    "\n",
    "for i in split_message:\n",
    "  if i[0] in vowels:\n",
    "    encoded_message = encoded_message + i[0] + i[-1] +' '\n",
    "  else:\n",
    "    encoded_words = ''\n",
    "    for n in i:\n",
    "      if n not in vowels:\n",
    "        encoded_words = encoded_words + n\n",
    "    encoded_message = encoded_message + encoded_words + ' '\n",
    "\n",
    "print(f'Encoded Msg: {encoded_message}')"
   ]
  },
  {
   "cell_type": "markdown",
   "id": "d93cc2ef",
   "metadata": {},
   "source": [
    "Q8:\n",
    "\n",
    "Write a program to implement run length encoding of a string\n",
    "\n",
    "RLE:Consecutive repetition of a character has to be replaced with the count of occurances and the character.\n",
    "\n",
    "Enter your string :aabbbccdddae\n",
    "\n",
    "Encoded: 2a3b2c3d1a1e"
   ]
  },
  {
   "cell_type": "code",
   "execution_count": 8,
   "id": "41cf234a",
   "metadata": {},
   "outputs": [
    {
     "name": "stdout",
     "output_type": "stream",
     "text": [
      "Enter your string : aabbbccgggddde\n",
      "Encoded : 2a3b2c3g3d1e\n"
     ]
    }
   ],
   "source": [
    "string = input('Enter your string : ')\n",
    "encoded_string = ''\n",
    "count = 1\n",
    "\n",
    "for i in range(0,len(string)-1):\n",
    "  if string[i] == string[i+1]:\n",
    "    count += 1\n",
    "  else:\n",
    "    encoded_string = encoded_string + str(count) + string[i]\n",
    "    count = 1\n",
    "\n",
    "encoded_string = encoded_string + str(count) + string[-1]\n",
    "\n",
    "print(f'Encoded : {encoded_string}')"
   ]
  }
 ],
 "metadata": {
  "kernelspec": {
   "display_name": "Python 3 (ipykernel)",
   "language": "python",
   "name": "python3"
  },
  "language_info": {
   "codemirror_mode": {
    "name": "ipython",
    "version": 3
   },
   "file_extension": ".py",
   "mimetype": "text/x-python",
   "name": "python",
   "nbconvert_exporter": "python",
   "pygments_lexer": "ipython3",
   "version": "3.11.5"
  }
 },
 "nbformat": 4,
 "nbformat_minor": 5
}
